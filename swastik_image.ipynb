{
 "cells": [
  {
   "cell_type": "code",
   "execution_count": 1,
   "metadata": {},
   "outputs": [],
   "source": [
    "import cv2\n",
    "import numpy as np"
   ]
  },
  {
   "cell_type": "code",
   "execution_count": 2,
   "metadata": {},
   "outputs": [],
   "source": [
    "#creating swastik image\n",
    "\n",
    "img = np.zeros((640,640,3))  #initialising image with black color\n",
    "\n",
    "#horizontal line\n",
    "color = (255,255,255)   #WHITE color\n",
    "start_point = 100,320\n",
    "end_point = 540,320\n",
    "thickness = 10\n",
    "img = cv2.line(img,start_point,end_point,color,thickness)\n",
    "\n",
    "#vertical line\n",
    "start_point = 320,100\n",
    "end_point = 320,540\n",
    "img = cv2.line(img,start_point,end_point,color,thickness) \n",
    "\n",
    "#horizontal line on top side\n",
    "start_point = 100,100\n",
    "end_point = 320,100\n",
    "img = cv2.line(img,start_point,end_point,color,thickness) \n",
    "\n",
    "#vertical line on top side\n",
    "start_point = 540,320\n",
    "end_point = 540,100\n",
    "img = cv2.line(img,start_point,end_point,color,thickness) \n",
    "\n",
    "#horizontal line on down side\n",
    "start_point = 320,540\n",
    "end_point = 540,540\n",
    "img = cv2.line(img,start_point,end_point,color,thickness) \n",
    "\n",
    "#vertical line on down side\n",
    "start_point = 100,320\n",
    "end_point = 100,540\n",
    "img = cv2.line(img,start_point,end_point,color,thickness)\n",
    "\n",
    "\n",
    "radius = 5\n",
    "thickness_1 = 15\n",
    "center_coordinates = 210,210\n",
    "img = cv2.circle(img,center_coordinates,radius,color,thickness_1)\n",
    "center_coordinates = 430,210\n",
    "img = cv2.circle(img,center_coordinates,radius,color,thickness_1)\n",
    "center_coordinates = 210,430\n",
    "img = cv2.circle(img,center_coordinates,radius,color,thickness_1)\n",
    "center_coordinates = 430,430\n",
    "img = cv2.circle(img,center_coordinates,radius,color,thickness_1)\n",
    "\n",
    "#To view the image\n",
    "cv2.imshow('swastik',img)\n",
    "cv2.waitKey()\n",
    "cv2.destroyAllWindows()\n"
   ]
  },
  {
   "cell_type": "code",
   "execution_count": null,
   "metadata": {},
   "outputs": [],
   "source": []
  }
 ],
 "metadata": {
  "kernelspec": {
   "display_name": "Python 3",
   "language": "python",
   "name": "python3"
  },
  "language_info": {
   "codemirror_mode": {
    "name": "ipython",
    "version": 3
   },
   "file_extension": ".py",
   "mimetype": "text/x-python",
   "name": "python",
   "nbconvert_exporter": "python",
   "pygments_lexer": "ipython3",
   "version": "3.8.3"
  }
 },
 "nbformat": 4,
 "nbformat_minor": 4
}
